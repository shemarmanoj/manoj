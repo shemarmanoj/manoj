{
  "nbformat": 4,
  "nbformat_minor": 0,
  "metadata": {
    "colab": {
      "provenance": []
    },
    "kernelspec": {
      "name": "python3",
      "display_name": "Python 3"
    },
    "language_info": {
      "name": "python"
    }
  },
  "cells": [
    {
      "cell_type": "markdown",
      "source": [
        "#What is a Lambda Function?\n",
        "A lambda is simply a way to define a function in Python. They are sometimes known as lambda operators or lambda functions.\n",
        "\n",
        "By now you probably have defined your functions using the def keyword, and it has worked well for you so far. So why is there another way to do the same thing?\n",
        "\n",
        "The difference is that lambda functions are anonymous. Meaning, they are functions that do not need to be named. They are used to create small one-line functions in cases where a normal function would be an overkill."
      ],
      "metadata": {
        "id": "acmVRi0Wz3la"
      }
    },
    {
      "cell_type": "markdown",
      "source": [
        "#What is Lambda Function in Python?\n",
        "A Lambda Function in Python programming is an anonymous function or a function having no name. It is a small and restricted function having no more than one line. Just like a normal function, a Lambda function can have multiple arguments with one expression.\n",
        "\n",
        "In Python, lambda expressions (or lambda forms) are utilized to construct anonymous functions. To do so, you will use the lambda keyword (just as you use def to define normal functions). Every anonymous function you define in Python will have 3 essential parts:\n",
        "\n",
        "#The lambda keyword.\n",
        "#The parameters (or bound variables), and\n",
        "#The function body.\n",
        "A lambda function can have any number of parameters, but the function body can only contain one expression.\n"
      ],
      "metadata": {
        "id": "wYYrZ9XS0SNi"
      }
    },
    {
      "cell_type": "markdown",
      "source": [
        "#Syntax and Examples\n",
        "The formal syntax to write a lambda function is as given below:\n",
        "\n",
        "#lambda p1, p2: expression\n",
        "Here, p1 and p2 are the parameters which are passed to the lambda function. You can add as many or few parameters as you need.\n",
        "\n",
        "However, notice that we do not use brackets around the parameters as we do with regular functions. The last part (expression) is any valid python expression that operates on the parameters you provide to the function."
      ],
      "metadata": {
        "id": "KIt9HynA0j0F"
      }
    },
    {
      "cell_type": "code",
      "source": [
        "#function\n",
        "def shrawinSum(x,y):\n",
        "  return x+y\n",
        "print(shrawinSum(32,84))"
      ],
      "metadata": {
        "id": "NwbMikFs0mjb",
        "colab": {
          "base_uri": "https://localhost:8080/"
        },
        "outputId": "874654f2-9b3b-4eee-94de-85ca00c11cb9"
      },
      "execution_count": null,
      "outputs": [
        {
          "output_type": "stream",
          "name": "stdout",
          "text": [
            "116\n"
          ]
        }
      ]
    },
    {
      "cell_type": "code",
      "source": [
        "n1=int(input(\"Enter First Number:\"))\n",
        "n2=int(input(\"Enter Second Number:\"))\n",
        "result=shrawinSum(n1,n2)\n",
        "print(result)\n"
      ],
      "metadata": {
        "colab": {
          "base_uri": "https://localhost:8080/"
        },
        "id": "pOCHdafX1ZDU",
        "outputId": "0f278fbd-1608-40f3-a298-caf071ae6765"
      },
      "execution_count": null,
      "outputs": [
        {
          "output_type": "stream",
          "name": "stdout",
          "text": [
            "Enter First Number:89\n",
            "Enter Second Number:98\n",
            "187\n"
          ]
        }
      ]
    },
    {
      "cell_type": "code",
      "source": [
        "#using lambda\n",
        "result=lambda x,y:x+y\n"
      ],
      "metadata": {
        "id": "S3dh4myo1-PX"
      },
      "execution_count": null,
      "outputs": []
    },
    {
      "cell_type": "code",
      "source": [
        "n1=int(input(\"Enter First Number:\"))\n",
        "n2=int(input(\"Enter Second Number:\"))\n",
        "print(result(n1,n2))\n"
      ],
      "metadata": {
        "colab": {
          "base_uri": "https://localhost:8080/"
        },
        "id": "87XqaZUV2M4C",
        "outputId": "9bd2adf5-d0be-4131-9a15-0eb647d2fb8a"
      },
      "execution_count": null,
      "outputs": [
        {
          "output_type": "stream",
          "name": "stdout",
          "text": [
            "Enter First Number:89\n",
            "Enter Second Number:98\n",
            "187\n"
          ]
        }
      ]
    },
    {
      "cell_type": "markdown",
      "source": [
        "#Code Explanation\n",
        "Here, we define a variable that will hold the result returned by the lambda function.\n",
        "\n",
        "#1. The lambda keyword used to define an anonymous function.\n",
        "\n",
        "#2. x and y are the parameters that we pass to the lambda function.\n",
        "\n",
        "#3. This is the body of the function, which adds the 2 parameters we passed. Notice that it is a single expression. You cannot write multiple statements in the body of a lambda function.\n",
        "\n",
        "#4. We call the function and print the returned value."
      ],
      "metadata": {
        "id": "HAsipLAg2eP6"
      }
    },
    {
      "cell_type": "code",
      "source": [
        "def doubler(x):\n",
        "    return x*2\n",
        "\n",
        "print(doubler(2))\n",
        "# Prints 4\n",
        "\n",
        "print(doubler(5))\n",
        "# Prints 10"
      ],
      "metadata": {
        "colab": {
          "base_uri": "https://localhost:8080/"
        },
        "id": "13ySFNZl2jlm",
        "outputId": "ca84ecf7-5a1c-48a6-a5b3-29ae2971bd26"
      },
      "execution_count": null,
      "outputs": [
        {
          "output_type": "stream",
          "name": "stdout",
          "text": [
            "4\n",
            "10\n"
          ]
        }
      ]
    },
    {
      "cell_type": "code",
      "source": [
        "doubler = lambda x: x*2\n",
        "\n",
        "print(doubler(2))\n",
        "# Prints 4\n",
        "\n",
        "print(doubler(5))\n",
        "# Prints 10"
      ],
      "metadata": {
        "colab": {
          "base_uri": "https://localhost:8080/"
        },
        "id": "Qgdzhrb13tyx",
        "outputId": "77c276f1-409a-46ba-e7ce-3f8c2e6c835b"
      },
      "execution_count": null,
      "outputs": [
        {
          "output_type": "stream",
          "name": "stdout",
          "text": [
            "4\n",
            "10\n"
          ]
        }
      ]
    },
    {
      "cell_type": "markdown",
      "source": [
        "#lambda parameters: expression"
      ],
      "metadata": {
        "id": "5k_rqJaV3yf6"
      }
    },
    {
      "cell_type": "markdown",
      "source": [
        "#Important characteristics\n",
        "In particular, a lambda function has the following characteristics:\n",
        "#1.No Statements Allowed\n",
        "#2.Single Expression Only"
      ],
      "metadata": {
        "id": "AvjeQE644LYY"
      }
    },
    {
      "cell_type": "code",
      "source": [
        "evenOdd = (lambda x:'odd' if x%2 else 'even')"
      ],
      "metadata": {
        "id": "d97JjEx83z64"
      },
      "execution_count": null,
      "outputs": []
    },
    {
      "cell_type": "code",
      "source": [
        "print(evenOdd(2))\n",
        "# Prints even\n",
        "\n",
        "print(evenOdd(3))\n",
        "# Prints odd"
      ],
      "metadata": {
        "colab": {
          "base_uri": "https://localhost:8080/"
        },
        "id": "Zip2FXOv4dsB",
        "outputId": "84f20ddd-9e2d-463c-d447-0d12fe79cf50"
      },
      "execution_count": null,
      "outputs": [
        {
          "output_type": "stream",
          "name": "stdout",
          "text": [
            "even\n",
            "odd\n"
          ]
        }
      ]
    },
    {
      "cell_type": "markdown",
      "source": [
        "#Immediately Invoked Function Expression (IIFE)\n",
        "A lambda function can be immediately invoked. For this reason it is often referred to as an Immediately Invoked Function Expression (IIFE)."
      ],
      "metadata": {
        "id": "WGU9thiy5Bk_"
      }
    },
    {
      "cell_type": "code",
      "source": [
        "print((lambda x: x*2)(6))\n",
        "# Prints 6"
      ],
      "metadata": {
        "colab": {
          "base_uri": "https://localhost:8080/"
        },
        "id": "bDOzHfUL5C3z",
        "outputId": "46af812c-9344-4a21-9b74-8f1cf19ed9f0"
      },
      "execution_count": null,
      "outputs": [
        {
          "output_type": "stream",
          "name": "stdout",
          "text": [
            "12\n"
          ]
        }
      ]
    },
    {
      "cell_type": "markdown",
      "source": [
        "#Ways to Pass Arguments\n",
        "Like a normal function, a lambda function supports all the different ways of passing arguments. This includes:\n",
        "#1.Positional arguments\n",
        "#2.Keyword arguments\n",
        "#3.Default argument\n",
        "#4.Variable list of arguments (*args)\n",
        "#5.Variable list of keyword arguments (**args)"
      ],
      "metadata": {
        "id": "Bi6M_Y-k5zG1"
      }
    },
    {
      "cell_type": "code",
      "source": [
        "# Positional arguments\n",
        "add = lambda x, y, z: x+y+z\n",
        "print(add(2, 3, 4))\n",
        "# Prints 9\n",
        "\n",
        "# Keyword arguments\n",
        "add = lambda x, y, z: x+y+z\n",
        "print(add(2, z=3, y=4))\n",
        "# Prints 9\n",
        "\n",
        "# Default arguments\n",
        "add = lambda x, y=3, z=4: x+y+z\n",
        "print(add(2))\n",
        "# Prints 9\n",
        "\n",
        "# *args\n",
        "add = lambda *args: sum(args)\n",
        "print(add(2, 3, 4))\n",
        "# Prints 9\n",
        "\n",
        "# **args\n",
        "add = lambda **kwargs: sum(kwargs.values())\n",
        "print(add(x=2, y=3, z=4))\n",
        "# Prints 9"
      ],
      "metadata": {
        "colab": {
          "base_uri": "https://localhost:8080/"
        },
        "id": "agDwHGNk6Bvh",
        "outputId": "ba863122-5ce1-4f39-b02b-b485c5fb250a"
      },
      "execution_count": null,
      "outputs": [
        {
          "output_type": "stream",
          "name": "stdout",
          "text": [
            "9\n",
            "9\n",
            "9\n",
            "9\n",
            "9\n"
          ]
        }
      ]
    },
    {
      "cell_type": "code",
      "source": [
        "import platform"
      ],
      "metadata": {
        "id": "PMgPh9FiaY63"
      },
      "execution_count": 1,
      "outputs": []
    },
    {
      "cell_type": "code",
      "source": [
        "print(platform.architecture())\n",
        "print(platform.platform())\n",
        "print(platform.python_compiler())"
      ],
      "metadata": {
        "colab": {
          "base_uri": "https://localhost:8080/"
        },
        "id": "N-fp9KrOanTU",
        "outputId": "739964d3-1596-4211-e764-3dedb5a6f379"
      },
      "execution_count": 6,
      "outputs": [
        {
          "output_type": "stream",
          "name": "stdout",
          "text": [
            "('64bit', 'ELF')\n",
            "Linux-5.15.109+-x86_64-with-glibc2.35\n",
            "GCC 11.3.0\n"
          ]
        }
      ]
    },
    {
      "cell_type": "code",
      "source": [
        "import sys"
      ],
      "metadata": {
        "id": "JM1Ee8HGa97o"
      },
      "execution_count": 7,
      "outputs": []
    },
    {
      "cell_type": "code",
      "source": [
        "print(sys.getsizeof(10))"
      ],
      "metadata": {
        "colab": {
          "base_uri": "https://localhost:8080/"
        },
        "id": "btI-zG9ObAXW",
        "outputId": "b0ba12b7-a263-466f-e7d8-9fa66e93d96a"
      },
      "execution_count": 8,
      "outputs": [
        {
          "output_type": "stream",
          "name": "stdout",
          "text": [
            "28\n"
          ]
        }
      ]
    }
  ]
}